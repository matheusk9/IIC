{
  "nbformat": 4,
  "nbformat_minor": 0,
  "metadata": {
    "colab": {
      "provenance": []
    },
    "kernelspec": {
      "name": "python3",
      "display_name": "Python 3"
    },
    "language_info": {
      "name": "python"
    }
  },
  "cells": [
    {
      "cell_type": "code",
      "execution_count": 2,
      "metadata": {
        "id": "CUnNAHWw-8yU"
      },
      "outputs": [],
      "source": [
        "import pandas as pd"
      ]
    },
    {
      "cell_type": "code",
      "source": [
        "from google.colab import drive\n",
        "drive.mount('/content/drive')"
      ],
      "metadata": {
        "colab": {
          "base_uri": "https://localhost:8080/"
        },
        "id": "QWmwfaWV_ID2",
        "outputId": "c0bb59d3-4c36-4e01-f604-f54e44d5cf04"
      },
      "execution_count": 4,
      "outputs": [
        {
          "output_type": "stream",
          "name": "stdout",
          "text": [
            "Mounted at /content/drive\n"
          ]
        }
      ]
    },
    {
      "cell_type": "code",
      "source": [
        "#cola nos parenteses o conteúdo de \"copiar caminho\"\n",
        "df = pd.read_csv(\"/content/drive/MyDrive/IIC - COVID dataset/Covid Data.csv\")"
      ],
      "metadata": {
        "id": "2KOdM2OY_KPJ"
      },
      "execution_count": 330,
      "outputs": []
    },
    {
      "cell_type": "code",
      "source": [
        "df.info()"
      ],
      "metadata": {
        "colab": {
          "base_uri": "https://localhost:8080/"
        },
        "id": "G04JNk2f_MdB",
        "outputId": "61213841-fb26-4640-b348-3b1a77ec95ea"
      },
      "execution_count": 310,
      "outputs": [
        {
          "output_type": "stream",
          "name": "stdout",
          "text": [
            "<class 'pandas.core.frame.DataFrame'>\n",
            "RangeIndex: 1048575 entries, 0 to 1048574\n",
            "Data columns (total 21 columns):\n",
            " #   Column                Non-Null Count    Dtype \n",
            "---  ------                --------------    ----- \n",
            " 0   USMER                 1048575 non-null  int64 \n",
            " 1   MEDICAL_UNIT          1048575 non-null  int64 \n",
            " 2   SEX                   1048575 non-null  int64 \n",
            " 3   PATIENT_TYPE          1048575 non-null  int64 \n",
            " 4   DATE_DIED             1048575 non-null  object\n",
            " 5   INTUBED               1048575 non-null  int64 \n",
            " 6   PNEUMONIA             1048575 non-null  int64 \n",
            " 7   AGE                   1048575 non-null  int64 \n",
            " 8   PREGNANT              1048575 non-null  int64 \n",
            " 9   DIABETES              1048575 non-null  int64 \n",
            " 10  COPD                  1048575 non-null  int64 \n",
            " 11  ASTHMA                1048575 non-null  int64 \n",
            " 12  INMSUPR               1048575 non-null  int64 \n",
            " 13  HIPERTENSION          1048575 non-null  int64 \n",
            " 14  OTHER_DISEASE         1048575 non-null  int64 \n",
            " 15  CARDIOVASCULAR        1048575 non-null  int64 \n",
            " 16  OBESITY               1048575 non-null  int64 \n",
            " 17  RENAL_CHRONIC         1048575 non-null  int64 \n",
            " 18  TOBACCO               1048575 non-null  int64 \n",
            " 19  CLASIFFICATION_FINAL  1048575 non-null  int64 \n",
            " 20  ICU                   1048575 non-null  int64 \n",
            "dtypes: int64(20), object(1)\n",
            "memory usage: 168.0+ MB\n"
          ]
        }
      ]
    },
    {
      "cell_type": "code",
      "source": [
        "df['DATE_DIED'].value_counts()"
      ],
      "metadata": {
        "colab": {
          "base_uri": "https://localhost:8080/"
        },
        "id": "dbFlQMors570",
        "outputId": "ec024870-0371-4be9-cc6c-655c992762d9"
      },
      "execution_count": 311,
      "outputs": [
        {
          "output_type": "execute_result",
          "data": {
            "text/plain": [
              "9999-99-99    971633\n",
              "06/07/2020      1000\n",
              "07/07/2020       996\n",
              "13/07/2020       990\n",
              "16/06/2020       979\n",
              "               ...  \n",
              "24/11/2020         1\n",
              "17/12/2020         1\n",
              "08/12/2020         1\n",
              "16/03/2021         1\n",
              "22/04/2021         1\n",
              "Name: DATE_DIED, Length: 401, dtype: int64"
            ]
          },
          "metadata": {},
          "execution_count": 311
        }
      ]
    },
    {
      "cell_type": "code",
      "source": [
        "def converte_data(a):\n",
        "  #nao morreram\n",
        "  if a == '9999-99-99':\n",
        "    a = a.replace(a,'2')\n",
        "  else:\n",
        "    #morreram\n",
        "    a = a.replace(a,'1')\n",
        "  return a"
      ],
      "metadata": {
        "id": "8tzIFAIyvjgy"
      },
      "execution_count": 271,
      "outputs": []
    },
    {
      "cell_type": "code",
      "source": [
        "df['INTUBED'].value_counts()"
      ],
      "metadata": {
        "colab": {
          "base_uri": "https://localhost:8080/"
        },
        "id": "GJjdXxloEzqT",
        "outputId": "ee317c1a-5c87-4d3a-f02d-5b7b35e1d2f5"
      },
      "execution_count": 313,
      "outputs": [
        {
          "output_type": "execute_result",
          "data": {
            "text/plain": [
              "97    848544\n",
              "2     159050\n",
              "1      33656\n",
              "99      7325\n",
              "Name: INTUBED, dtype: int64"
            ]
          },
          "metadata": {},
          "execution_count": 313
        }
      ]
    },
    {
      "cell_type": "code",
      "source": [
        "df['MORTE'] = df.DATE_DIED.apply(converte_data)"
      ],
      "metadata": {
        "id": "xL0EKHS-uzpe"
      },
      "execution_count": 331,
      "outputs": []
    },
    {
      "cell_type": "code",
      "source": [
        "df=df.drop(columns=['PREGNANT','PNEUMONIA','PATIENT_TYPE','DATE_DIED','CLASIFFICATION_FINAL','SEX','INMSUPR','RENAL_CHRONIC','USMER', 'MEDICAL_UNIT','ICU','OTHER_DISEASE'])\n"
      ],
      "metadata": {
        "id": "64YTM-baEJf8"
      },
      "execution_count": 332,
      "outputs": []
    },
    {
      "cell_type": "code",
      "source": [
        "df.MORTE.value_counts()"
      ],
      "metadata": {
        "colab": {
          "base_uri": "https://localhost:8080/"
        },
        "id": "HqTGWCg2wKD1",
        "outputId": "8563ab1c-e956-42ef-a964-a32c4840eba2"
      },
      "execution_count": 333,
      "outputs": [
        {
          "output_type": "execute_result",
          "data": {
            "text/plain": [
              "2    971633\n",
              "1     76942\n",
              "Name: MORTE, dtype: int64"
            ]
          },
          "metadata": {},
          "execution_count": 333
        }
      ]
    },
    {
      "cell_type": "code",
      "source": [
        "df.info()"
      ],
      "metadata": {
        "colab": {
          "base_uri": "https://localhost:8080/"
        },
        "id": "aJO-nSSO2Uw1",
        "outputId": "3d61879a-7a59-428e-b791-97e4e0eefc9d"
      },
      "execution_count": 319,
      "outputs": [
        {
          "output_type": "stream",
          "name": "stdout",
          "text": [
            "<class 'pandas.core.frame.DataFrame'>\n",
            "RangeIndex: 1048575 entries, 0 to 1048574\n",
            "Data columns (total 10 columns):\n",
            " #   Column          Non-Null Count    Dtype \n",
            "---  ------          --------------    ----- \n",
            " 0   INTUBED         1048575 non-null  int64 \n",
            " 1   AGE             1048575 non-null  int64 \n",
            " 2   DIABETES        1048575 non-null  int64 \n",
            " 3   COPD            1048575 non-null  int64 \n",
            " 4   ASTHMA          1048575 non-null  int64 \n",
            " 5   HIPERTENSION    1048575 non-null  int64 \n",
            " 6   CARDIOVASCULAR  1048575 non-null  int64 \n",
            " 7   OBESITY         1048575 non-null  int64 \n",
            " 8   TOBACCO         1048575 non-null  int64 \n",
            " 9   MORTE           1048575 non-null  object\n",
            "dtypes: int64(9), object(1)\n",
            "memory usage: 80.0+ MB\n"
          ]
        }
      ]
    },
    {
      "cell_type": "code",
      "source": [
        "X = df.drop(columns=['MORTE'])\n",
        "y = df['MORTE']"
      ],
      "metadata": {
        "id": "7ythEyyhDDEf"
      },
      "execution_count": 334,
      "outputs": []
    },
    {
      "cell_type": "code",
      "source": [
        "print(f\"Nomes dos Atributos: {df.columns}\")\n",
        "print(f\"Tamanho de X: {X.shape}\")\n",
        "print(f\"Tamanho de y: {y.shape}\")"
      ],
      "metadata": {
        "colab": {
          "base_uri": "https://localhost:8080/"
        },
        "id": "sJwKJ5YpDLkz",
        "outputId": "203d4f99-c8ba-4682-855c-305313f9d263"
      },
      "execution_count": 335,
      "outputs": [
        {
          "output_type": "stream",
          "name": "stdout",
          "text": [
            "Nomes dos Atributos: Index(['INTUBED', 'AGE', 'DIABETES', 'COPD', 'ASTHMA', 'HIPERTENSION',\n",
            "       'CARDIOVASCULAR', 'OBESITY', 'TOBACCO', 'MORTE'],\n",
            "      dtype='object')\n",
            "Tamanho de X: (1048575, 9)\n",
            "Tamanho de y: (1048575,)\n"
          ]
        }
      ]
    },
    {
      "cell_type": "code",
      "source": [
        "from sklearn.model_selection import train_test_split\n",
        "\n",
        "X_train, X_test, y_train, y_test = train_test_split(X,\n",
        "                                                    y,\n",
        "                                                    test_size=0.25,\n",
        "                                                    random_state=123)\n"
      ],
      "metadata": {
        "id": "NvbaGOVgDPhY"
      },
      "execution_count": 336,
      "outputs": []
    },
    {
      "cell_type": "code",
      "source": [
        "print(f\"Tamanho de X_train: {X_train.shape}\")\n",
        "print(f\"Tamanho de X_test: {X_test.shape}\")\n",
        "print(f\"Tamanho de y_train: {y_train.shape}\")\n",
        "print(f\"Tamanho de y_test: {y_test.shape}\")"
      ],
      "metadata": {
        "colab": {
          "base_uri": "https://localhost:8080/"
        },
        "id": "FS5gJIRUDSR7",
        "outputId": "db0ca552-9dff-4167-dd87-2286253b9345"
      },
      "execution_count": 323,
      "outputs": [
        {
          "output_type": "stream",
          "name": "stdout",
          "text": [
            "Tamanho de X_train: (786431, 9)\n",
            "Tamanho de X_test: (262144, 9)\n",
            "Tamanho de y_train: (786431,)\n",
            "Tamanho de y_test: (262144,)\n"
          ]
        }
      ]
    },
    {
      "cell_type": "code",
      "source": [
        "from sklearn.linear_model import LinearRegression\n",
        "\n",
        "rl = LinearRegression()"
      ],
      "metadata": {
        "id": "O2KBWUq7DYV1"
      },
      "execution_count": 337,
      "outputs": []
    },
    {
      "cell_type": "code",
      "source": [
        "rl.fit(X_train, y_train)"
      ],
      "metadata": {
        "colab": {
          "base_uri": "https://localhost:8080/"
        },
        "id": "rgjkZ1Z8DbTB",
        "outputId": "61399a4a-ecb2-4d63-f078-76916e79d0cb"
      },
      "execution_count": 338,
      "outputs": [
        {
          "output_type": "execute_result",
          "data": {
            "text/plain": [
              "LinearRegression()"
            ]
          },
          "metadata": {},
          "execution_count": 338
        }
      ]
    },
    {
      "cell_type": "code",
      "source": [
        "# Coeficientes do modelo\n",
        "for feature, coef in zip(df.columns.tolist(), rl.coef_.tolist()):\n",
        "    print(f\"{feature}: {round(coef, 4)}\")\n",
        "\n",
        "# Constante do modelo\n",
        "print(f\"Constante: {round(rl.intercept_, 4)}\")"
      ],
      "metadata": {
        "colab": {
          "base_uri": "https://localhost:8080/"
        },
        "id": "UMaUxwoiEYlS",
        "outputId": "7547623a-c512-412e-9dde-36e7c115fcfd"
      },
      "execution_count": 339,
      "outputs": [
        {
          "output_type": "stream",
          "name": "stdout",
          "text": [
            "INTUBED: 0.0032\n",
            "AGE: -0.0027\n",
            "DIABETES: 0.0005\n",
            "COPD: -0.0007\n",
            "ASTHMA: -0.0005\n",
            "HIPERTENSION: 0.0006\n",
            "CARDIOVASCULAR: -0.0004\n",
            "OBESITY: -0.0002\n",
            "TOBACCO: -0.0003\n",
            "Constante: 1.7882\n"
          ]
        }
      ]
    },
    {
      "cell_type": "code",
      "source": [
        "from sklearn.metrics import mean_absolute_error, mean_squared_error\n",
        "\n",
        "y_pred = rl.predict(X_test)\n",
        "\n",
        "print(f\"MSE de Teste: {mean_squared_error(y_test, y_pred):1.1f}\")\n",
        "print(f\"MAE de Teste: {mean_absolute_error(y_test, y_pred):1.1f}\")"
      ],
      "metadata": {
        "colab": {
          "base_uri": "https://localhost:8080/"
        },
        "id": "M6q-cg3DFQo_",
        "outputId": "0d30ef65-118e-437e-83ab-6d2e95b5b4ce"
      },
      "execution_count": 340,
      "outputs": [
        {
          "output_type": "stream",
          "name": "stdout",
          "text": [
            "MSE de Teste: 0.0\n",
            "MAE de Teste: 0.1\n"
          ]
        }
      ]
    },
    {
      "cell_type": "code",
      "source": [
        "from sklearn.metrics import r2_score \n",
        "R2 = r2_score(y_test,y_pred)\n",
        "print(R2)\n",
        "#ou rl.score(X_test,y_test)"
      ],
      "metadata": {
        "colab": {
          "base_uri": "https://localhost:8080/"
        },
        "id": "q7dkO6AfFSQi",
        "outputId": "95e46ec1-3364-4810-db04-8ac5a86a6c8d"
      },
      "execution_count": 341,
      "outputs": [
        {
          "output_type": "stream",
          "name": "stdout",
          "text": [
            "0.28643819418970007\n"
          ]
        }
      ]
    },
    {
      "cell_type": "code",
      "source": [
        "rl.score(X_test,y_test)"
      ],
      "metadata": {
        "colab": {
          "base_uri": "https://localhost:8080/"
        },
        "id": "kCjQWomOFUD8",
        "outputId": "1e8ee178-7366-4ca0-b456-b359ada0ed40"
      },
      "execution_count": 342,
      "outputs": [
        {
          "output_type": "execute_result",
          "data": {
            "text/plain": [
              "0.28643819418970007"
            ]
          },
          "metadata": {},
          "execution_count": 342
        }
      ]
    }
  ]
}