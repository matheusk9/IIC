{
  "nbformat": 4,
  "nbformat_minor": 0,
  "metadata": {
    "colab": {
      "provenance": [],
      "authorship_tag": "ABX9TyPB/HD/8PsSGTxxZaz8XkP+",
      "include_colab_link": true
    },
    "kernelspec": {
      "name": "python3",
      "display_name": "Python 3"
    },
    "language_info": {
      "name": "python"
    }
  },
  "cells": [
    {
      "cell_type": "markdown",
      "metadata": {
        "id": "view-in-github",
        "colab_type": "text"
      },
      "source": [
        "<a href=\"https://colab.research.google.com/github/matheusk9/IIC/blob/main/interface_classificacao.ipynb\" target=\"_parent\"><img src=\"https://colab.research.google.com/assets/colab-badge.svg\" alt=\"Open In Colab\"/></a>"
      ]
    },
    {
      "cell_type": "code",
      "execution_count": 45,
      "metadata": {
        "id": "ujXUtTvbYVhf"
      },
      "outputs": [],
      "source": [
        "import pandas as pd\n"
      ]
    },
    {
      "cell_type": "code",
      "source": [
        "from google.colab import drive\n",
        "drive.mount('/content/drive')"
      ],
      "metadata": {
        "colab": {
          "base_uri": "https://localhost:8080/"
        },
        "id": "zQx2QruXYirP",
        "outputId": "9e19ec77-a54e-4e69-cf5a-8b3c0ae02724"
      },
      "execution_count": 46,
      "outputs": [
        {
          "output_type": "stream",
          "name": "stdout",
          "text": [
            "Drive already mounted at /content/drive; to attempt to forcibly remount, call drive.mount(\"/content/drive\", force_remount=True).\n"
          ]
        }
      ]
    },
    {
      "cell_type": "code",
      "source": [
        "#cola nos parenteses o conteúdo de \"copiar caminho\"\n",
        "df = pd.read_csv(\"/content/drive/MyDrive/IIC - COVID dataset/Covid Data.csv\")"
      ],
      "metadata": {
        "id": "kZ_0t3oZYkBR"
      },
      "execution_count": 47,
      "outputs": []
    },
    {
      "cell_type": "code",
      "source": [
        "df.info()"
      ],
      "metadata": {
        "colab": {
          "base_uri": "https://localhost:8080/"
        },
        "id": "XQ8AOs6QZEtQ",
        "outputId": "6476f7dc-ccbd-4afc-9760-fa0d7d95ce17"
      },
      "execution_count": 48,
      "outputs": [
        {
          "output_type": "stream",
          "name": "stdout",
          "text": [
            "<class 'pandas.core.frame.DataFrame'>\n",
            "RangeIndex: 1048575 entries, 0 to 1048574\n",
            "Data columns (total 21 columns):\n",
            " #   Column                Non-Null Count    Dtype \n",
            "---  ------                --------------    ----- \n",
            " 0   USMER                 1048575 non-null  int64 \n",
            " 1   MEDICAL_UNIT          1048575 non-null  int64 \n",
            " 2   SEX                   1048575 non-null  int64 \n",
            " 3   PATIENT_TYPE          1048575 non-null  int64 \n",
            " 4   DATE_DIED             1048575 non-null  object\n",
            " 5   INTUBED               1048575 non-null  int64 \n",
            " 6   PNEUMONIA             1048575 non-null  int64 \n",
            " 7   AGE                   1048575 non-null  int64 \n",
            " 8   PREGNANT              1048575 non-null  int64 \n",
            " 9   DIABETES              1048575 non-null  int64 \n",
            " 10  COPD                  1048575 non-null  int64 \n",
            " 11  ASTHMA                1048575 non-null  int64 \n",
            " 12  INMSUPR               1048575 non-null  int64 \n",
            " 13  HIPERTENSION          1048575 non-null  int64 \n",
            " 14  OTHER_DISEASE         1048575 non-null  int64 \n",
            " 15  CARDIOVASCULAR        1048575 non-null  int64 \n",
            " 16  OBESITY               1048575 non-null  int64 \n",
            " 17  RENAL_CHRONIC         1048575 non-null  int64 \n",
            " 18  TOBACCO               1048575 non-null  int64 \n",
            " 19  CLASIFFICATION_FINAL  1048575 non-null  int64 \n",
            " 20  ICU                   1048575 non-null  int64 \n",
            "dtypes: int64(20), object(1)\n",
            "memory usage: 168.0+ MB\n"
          ]
        }
      ]
    },
    {
      "cell_type": "markdown",
      "source": [
        "## Column Definitions\n",
        "\n",
        "\n",
        "\n",
        "*   USMER : This indicates whether the patient treated medical units of the first, second or third level\n",
        "* MEDICAL_UNIT : The type of institution of the Natinal Health System that provided the care.\n",
        "* SEX : 1-\"Female\", 2-\"male\".\n",
        "* PATIENT_TYPE : The type of care the patient received in the unit. 1-\"returned home\", 2-\"hospitalization\". 97 and 99 are missing data.\n",
        "* DATE_DIED : Indicated date of death means that the patient died, except for 9999-99-99 which means that the patient survived..\n",
        "* INTUBED : Wether the patient was connected to a ventilator. 1-\"yes\", 2-\"no\"\n",
        "* PNEUMONIA : Whether the patient already have air sacs inflamation or not.1-\"yes\", 2-\"no\", while 97 and 99 are missing data.\n",
        "* AGE: The patient's age.\n",
        "* PREGNANT: Whether the patient is pregnant or not.1-\"yes\", 2-\"no\", while 97 and 99 are missing data.\n",
        "* DIABETES : Whether the patient has diabetes or not.\n",
        "* COPD : Whether the patient has chronic obstructive pulmonary disease or not.\n",
        "* ASTHMA : Whether the patient has asthma or not.\n",
        "* INMSUPR : Whether the patient is immunosuppressed or not.\n",
        "* HYPERTENSION : Whether the patient has hypertension or not.\n",
        "* OTHER DISEASE : Whether the patient has other disease or not.\n",
        "* CARDIOVASCULAR : Whether the patient has patient has heart or blood vessels related diseases.\n",
        "* OBESITY : Whether the patient is obessed or not.\n",
        "* RENAL CHRONIC : Whether the patient has chronic renal disease or not.\n",
        "* TOBACCO : Whether the patient is a tobacco user or not.\n",
        "* CLASIFFICATION_FINAL : Covid test findings. Values 1-3 means that the patient was diagnosed with covid in different degrees. 4 or higher means that the patient is not a carrier of covid or that the test is inconclusive.\n",
        "* ICU : Whether the patient has been admitted into the intensive care unit.\n",
        "\n",
        "\n"
      ],
      "metadata": {
        "id": "N5SipwlxcAky"
      }
    },
    {
      "cell_type": "code",
      "source": [
        "df.columns\n"
      ],
      "metadata": {
        "id": "jvuCylk1ZNQi",
        "colab": {
          "base_uri": "https://localhost:8080/"
        },
        "outputId": "0922d0ff-2aed-41d5-dfa6-9d7a4bbc7fa8"
      },
      "execution_count": 49,
      "outputs": [
        {
          "output_type": "execute_result",
          "data": {
            "text/plain": [
              "Index(['USMER', 'MEDICAL_UNIT', 'SEX', 'PATIENT_TYPE', 'DATE_DIED', 'INTUBED',\n",
              "       'PNEUMONIA', 'AGE', 'PREGNANT', 'DIABETES', 'COPD', 'ASTHMA', 'INMSUPR',\n",
              "       'HIPERTENSION', 'OTHER_DISEASE', 'CARDIOVASCULAR', 'OBESITY',\n",
              "       'RENAL_CHRONIC', 'TOBACCO', 'CLASIFFICATION_FINAL', 'ICU'],\n",
              "      dtype='object')"
            ]
          },
          "metadata": {},
          "execution_count": 49
        }
      ]
    },
    {
      "cell_type": "markdown",
      "source": [
        "# Pre-Processamento"
      ],
      "metadata": {
        "id": "7aGC1i9fUN3w"
      }
    },
    {
      "cell_type": "markdown",
      "source": [
        "## Excluindo as colunas \"INTUBED\", \"PREGNANT\" e \"ICU\" porque os dados nessas colunas têm muito valor ausente\n"
      ],
      "metadata": {
        "id": "6xC35yBPdZPw"
      }
    },
    {
      "cell_type": "code",
      "source": [
        "df.drop(columns=[\"INTUBED\", \"PREGNANT\",\"ICU\", \"PATIENT_TYPE\", \"INMSUPR\"], inplace=True)\n",
        "df.info()"
      ],
      "metadata": {
        "colab": {
          "base_uri": "https://localhost:8080/"
        },
        "id": "j4IlkuHYOxSS",
        "outputId": "16cef6ee-70ba-40a5-d052-92e188479f80"
      },
      "execution_count": 50,
      "outputs": [
        {
          "output_type": "stream",
          "name": "stdout",
          "text": [
            "<class 'pandas.core.frame.DataFrame'>\n",
            "RangeIndex: 1048575 entries, 0 to 1048574\n",
            "Data columns (total 16 columns):\n",
            " #   Column                Non-Null Count    Dtype \n",
            "---  ------                --------------    ----- \n",
            " 0   USMER                 1048575 non-null  int64 \n",
            " 1   MEDICAL_UNIT          1048575 non-null  int64 \n",
            " 2   SEX                   1048575 non-null  int64 \n",
            " 3   DATE_DIED             1048575 non-null  object\n",
            " 4   PNEUMONIA             1048575 non-null  int64 \n",
            " 5   AGE                   1048575 non-null  int64 \n",
            " 6   DIABETES              1048575 non-null  int64 \n",
            " 7   COPD                  1048575 non-null  int64 \n",
            " 8   ASTHMA                1048575 non-null  int64 \n",
            " 9   HIPERTENSION          1048575 non-null  int64 \n",
            " 10  OTHER_DISEASE         1048575 non-null  int64 \n",
            " 11  CARDIOVASCULAR        1048575 non-null  int64 \n",
            " 12  OBESITY               1048575 non-null  int64 \n",
            " 13  RENAL_CHRONIC         1048575 non-null  int64 \n",
            " 14  TOBACCO               1048575 non-null  int64 \n",
            " 15  CLASIFFICATION_FINAL  1048575 non-null  int64 \n",
            "dtypes: int64(15), object(1)\n",
            "memory usage: 128.0+ MB\n"
          ]
        }
      ]
    },
    {
      "cell_type": "markdown",
      "source": [
        "## Removendo linhas com valores 97 ,98 e 99. Pois indicam a falta de dados"
      ],
      "metadata": {
        "id": "YBqD61yddeBt"
      }
    },
    {
      "cell_type": "code",
      "source": [
        "# Define a lista de valores que deseja buscar\n",
        "valores = ['97', '98', '99']\n",
        "\n",
        "# Verifica em todas as colunas se há pelo menos um elemento igual a qualquer um dos valores\n",
        "mascara = df.apply(lambda coluna: coluna.isin(valores).any(), axis=0)\n",
        "\n",
        "# Seleciona as linhas que atendem a essa condição\n",
        "df = df.loc[~df.loc[:,mascara].isin(valores).any(axis=1)]"
      ],
      "metadata": {
        "id": "CTaT-dtRdXhJ"
      },
      "execution_count": 51,
      "outputs": []
    },
    {
      "cell_type": "markdown",
      "source": [
        "## Substituindo dados\n",
        "Substitundo os dados 9999-99-99 por 1 que indica que o paciente está vivo, enquanto os dados da data de morte serão alterados para 0 que indica que o paciente morreu.\n"
      ],
      "metadata": {
        "id": "NZS1UTHNd9sI"
      }
    },
    {
      "cell_type": "code",
      "source": [
        "df.DATE_DIED.value_counts()\n"
      ],
      "metadata": {
        "id": "ucAf0ZR0eAdQ",
        "colab": {
          "base_uri": "https://localhost:8080/"
        },
        "outputId": "ad47c29c-ce45-4702-d87c-19bbb16be53d"
      },
      "execution_count": 52,
      "outputs": [
        {
          "output_type": "execute_result",
          "data": {
            "text/plain": [
              "9999-99-99    971633\n",
              "06/07/2020      1000\n",
              "07/07/2020       996\n",
              "13/07/2020       990\n",
              "16/06/2020       979\n",
              "               ...  \n",
              "24/11/2020         1\n",
              "17/12/2020         1\n",
              "08/12/2020         1\n",
              "16/03/2021         1\n",
              "22/04/2021         1\n",
              "Name: DATE_DIED, Length: 401, dtype: int64"
            ]
          },
          "metadata": {},
          "execution_count": 52
        }
      ]
    },
    {
      "cell_type": "code",
      "source": [
        "df[\"DEATH\"] = [1 if row=='9999-99-99' else 0 for row in df[\"DATE_DIED\"]]\n",
        "df[\"DEATH\"].value_counts()"
      ],
      "metadata": {
        "colab": {
          "base_uri": "https://localhost:8080/"
        },
        "id": "Bc4GaOyFemJn",
        "outputId": "91935f77-11e9-4f7c-b1c4-1b9e123aeb2c"
      },
      "execution_count": 53,
      "outputs": [
        {
          "output_type": "execute_result",
          "data": {
            "text/plain": [
              "1    971633\n",
              "0     76942\n",
              "Name: DEATH, dtype: int64"
            ]
          },
          "metadata": {},
          "execution_count": 53
        }
      ]
    },
    {
      "cell_type": "code",
      "source": [
        "df.drop(\"DATE_DIED\", axis=1, inplace=True)\n"
      ],
      "metadata": {
        "id": "OETeQVKjT4sZ"
      },
      "execution_count": 54,
      "outputs": []
    },
    {
      "cell_type": "markdown",
      "source": [
        "# Treino e teste\n"
      ],
      "metadata": {
        "id": "zPJ-BM1gUe64"
      }
    },
    {
      "cell_type": "code",
      "source": [
        "X = df.drop(\"DEATH\", axis=1)\n",
        "y = df[\"DEATH\"]"
      ],
      "metadata": {
        "id": "XVOuGGJrUdgK"
      },
      "execution_count": 55,
      "outputs": []
    },
    {
      "cell_type": "code",
      "source": [
        "from sklearn.model_selection import train_test_split\n",
        "from sklearn.metrics import confusion_matrix\n",
        "from sklearn.metrics import classification_report\n",
        "X_train, X_test, y_train, y_test = train_test_split(X, y, test_size = 0.20, random_state = 42)"
      ],
      "metadata": {
        "id": "XCjdVSsUVV_D"
      },
      "execution_count": 56,
      "outputs": []
    },
    {
      "cell_type": "markdown",
      "source": [
        "# Classificação\n"
      ],
      "metadata": {
        "id": "ck45DioZVYCz"
      }
    },
    {
      "cell_type": "markdown",
      "source": [
        "## XGBoost"
      ],
      "metadata": {
        "id": "vYRVRYoZZRW4"
      }
    },
    {
      "cell_type": "code",
      "source": [
        "import xgboost as xgb\n",
        "xgb_model = xgb.XGBClassifier(objective=\"binary:logistic\", random_state=42)\n",
        "xgb_model.fit(X_train,y_train)\n",
        "y_pred = xgb_model.predict(X_test)\n",
        "cm = confusion_matrix(y_test,y_pred)\n",
        "print(\"Relatório de Classificação:\\n\", classification_report(y_test, y_pred, digits=4))"
      ],
      "metadata": {
        "colab": {
          "base_uri": "https://localhost:8080/"
        },
        "id": "uLyUDxaOWGcA",
        "outputId": "b039bda9-2239-463d-9bd8-be6c195e338b"
      },
      "execution_count": 58,
      "outputs": [
        {
          "output_type": "stream",
          "name": "stdout",
          "text": [
            "Relatório de Classificação:\n",
            "               precision    recall  f1-score   support\n",
            "\n",
            "           0     0.6435    0.3922    0.4874     15240\n",
            "           1     0.9538    0.9830    0.9682    194475\n",
            "\n",
            "    accuracy                         0.9400    209715\n",
            "   macro avg     0.7987    0.6876    0.7278    209715\n",
            "weighted avg     0.9312    0.9400    0.9332    209715\n",
            "\n"
          ]
        }
      ]
    }
  ]
}